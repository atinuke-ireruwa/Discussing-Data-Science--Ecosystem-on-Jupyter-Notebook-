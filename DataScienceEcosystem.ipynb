{
 "cells": [
  {
   "cell_type": "markdown",
   "id": "79778ec7-d66a-4669-bf57-2884bfd3c4e4",
   "metadata": {},
   "source": [
    "# Data Science Tools and Ecosystem"
   ]
  },
  {
   "attachments": {},
   "cell_type": "markdown",
   "id": "7832c5f4-fed3-4bdb-9c8a-50f947674844",
   "metadata": {},
   "source": [
    "In this notebook, Data Science Tools and Ecosystem are summarized."
   ]
  },
  {
   "cell_type": "markdown",
   "id": "095c7505-7884-4e4d-a602-1acf2ea92fbf",
   "metadata": {},
   "source": [
    "Some of the popular languages that Data Scientists use are:\n",
    "1. **Python**\n",
    "2. **R**\n",
    "3. **SQL**\n",
    "4. **Julia**\n",
    "5. **Scala**\n",
    "6. **Java**\n"
   ]
  },
  {
   "cell_type": "markdown",
   "id": "1249fc70-a47e-4f7b-adca-9cb6e8d09197",
   "metadata": {},
   "source": [
    "Objectives:\n",
    "- **Python** – A versatile and beginner-friendly language widely used for data analysis, machine learning, and data visualization due to its extensive libraries (e.g., pandas, scikit-learn, TensorFlow).\n",
    "\n",
    "- **R** – Designed for statisticians and data analysts, R excels at statistical modeling, hypothesis testing, and producing high-quality data visualizations (e.g., ggplot2, dplyr).\n",
    "\n",
    "- **SQL** – Used for querying, retrieving, and manipulating structured data stored in relational databases. Essential for data extraction and preparation.\n",
    "\n",
    "- **Julia** – A high-performance language aimed at numerical and scientific computing, ideal for large-scale linear algebra and real-time machine learning tasks.\n",
    "\n",
    "- **Scala** – A powerful language often used with Apache Spark for big data processing and scalable machine learning workflows.\n",
    "\n",
    "- **Java** – Commonly used in enterprise environments for building robust data pipelines, backend systems, and integrating machine learning models into production.\n"
   ]
  },
  {
   "cell_type": "markdown",
   "id": "1bca12be-45bb-4842-adf8-d8952e9e02b2",
   "metadata": {},
   "source": [
    "Some of the commonly used libraries used by Data Scientists include:\n",
    "1. **Numpy**\n",
    "2. **Pandas**\n",
    "3. **Matplotlib**\n",
    "4. **Seaborn**\n",
    "5. **Scikitlearn**\n",
    "6. **TensorFlow**\n",
    "7. **Keras**\n",
    "8. **Pytorch**\n",
    "9. **Statsmodel**\n",
    "10. **XGBoost**\n"
   ]
  },
  {
   "cell_type": "markdown",
   "id": "c821df69-ff30-4432-952d-19259aec496f",
   "metadata": {},
   "source": [
    "|**Data Science Tools**|\n",
    "|----------------------|\n",
    "|Jupyter Notebook      |\n",
    "|RStudio               |\n",
    "|Apache Zappelin       |\n",
    "|Spyder                |\n",
    "|Visual Studio Code    |\n",
    "|Google Colab          |\n"
   ]
  },
  {
   "cell_type": "markdown",
   "id": "820062fa-10e7-435c-b223-0d7a23373b01",
   "metadata": {},
   "source": [
    "### Below are a few examples of evaluating arithmetic expressions in Python\n",
    "- **Addition:** `5 + 3 = 8`\n",
    "- **Subtraction:** `10 - 2 = 8`\n",
    "- **Multiplication:** `4 * 2 = 8`\n",
    "- **Division:** `16 / 2 = 8`\n",
    "- **Exponentiation:** `2 ** 3 = 8`\n",
    "- **Modulus (remainder):** `17 % 3 = 2`"
   ]
  },
  {
   "cell_type": "code",
   "execution_count": 3,
   "id": "4c2babcb-baf5-459f-b86d-8da2e3fa0dfa",
   "metadata": {},
   "outputs": [
    {
     "data": {
      "text/plain": [
       "17"
      ]
     },
     "execution_count": 3,
     "metadata": {},
     "output_type": "execute_result"
    }
   ],
   "source": [
    "#This a simple arithmetic expression to mutiply then add integers.\n",
    "(3*4)+5"
   ]
  },
  {
   "cell_type": "code",
   "execution_count": 4,
   "id": "1e543f98-6236-403a-bc15-e3eec0022be6",
   "metadata": {},
   "outputs": [
    {
     "name": "stdout",
     "output_type": "stream",
     "text": [
      "3.3333333333333335\n"
     ]
    }
   ],
   "source": [
    "# Convert 200 minutes to hours\n",
    "minutes = 200\n",
    "hours = minutes / 60\n",
    "print(hours)"
   ]
  },
  {
   "cell_type": "markdown",
   "id": "b6a7188d-ed32-4596-8ca7-fd15109b2f42",
   "metadata": {},
   "source": [
    "## Author\n",
    "\n",
    "Yewande Atinuke Ireruwa"
   ]
  },
  {
   "cell_type": "code",
   "execution_count": null,
   "id": "8fd18c9f-8087-4923-b50c-da2f517be785",
   "metadata": {},
   "outputs": [],
   "source": []
  }
 ],
 "metadata": {
  "kernelspec": {
   "display_name": "Python 3 (ipykernel)",
   "language": "python",
   "name": "python3"
  },
  "language_info": {
   "codemirror_mode": {
    "name": "ipython",
    "version": 3
   },
   "file_extension": ".py",
   "mimetype": "text/x-python",
   "name": "python",
   "nbconvert_exporter": "python",
   "pygments_lexer": "ipython3",
   "version": "3.12.7"
  }
 },
 "nbformat": 4,
 "nbformat_minor": 5
}
